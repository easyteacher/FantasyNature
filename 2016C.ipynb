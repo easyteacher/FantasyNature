{
 "cells": [
  {
   "cell_type": "code",
   "execution_count": null,
   "metadata": {},
   "outputs": [],
   "source": [
    "import numpy as np\n",
    "from math import pow\n",
    "import scipy.optimize"
   ]
  },
  {
   "cell_type": "markdown",
   "metadata": {},
   "source": [
    "## 1 载入原始数据"
   ]
  },
  {
   "cell_type": "markdown",
   "metadata": {},
   "source": [
    "### 获取基站个数sta_num（第一行），终端个数dev_num（第二行），数据维度（第三行）"
   ]
  },
  {
   "cell_type": "code",
   "execution_count": null,
   "metadata": {},
   "outputs": [],
   "source": [
    "handle_list=[]\n",
    "with open('./Dataset_2016c/sample_case001_input.txt','r') as handle:\n",
    "    for line in handle:\n",
    "        handle_list.append(line.strip('\\n'))\n",
    "sta_num = int(handle_list[0])\n",
    "dev_num = int(handle_list[1])\n",
    "dimension = int(handle_list[2])"
   ]
  },
  {
   "cell_type": "markdown",
   "metadata": {},
   "source": [
    "### 构建基站位置列表"
   ]
  },
  {
   "cell_type": "code",
   "execution_count": null,
   "metadata": {},
   "outputs": [],
   "source": [
    "sta_list = []\n",
    "for i in range(3,3+sta_num):\n",
    "    sta_list.append([float(x) for x in handle_list[i].split('\\t') if x != ''])"
   ]
  },
  {
   "cell_type": "markdown",
   "metadata": {},
   "source": [
    "### 构建终端TOA列表"
   ]
  },
  {
   "cell_type": "code",
   "execution_count": null,
   "metadata": {},
   "outputs": [],
   "source": [
    "toa_list = []\n",
    "for i in range(3+sta_num,3+sta_num+dev_num):\n",
    "    toa_list.append([float(x) for x in handle_list[i].split('\\t') if x != ''])"
   ]
  },
  {
   "cell_type": "markdown",
   "metadata": {},
   "source": [
    "## 2 定位基本模型"
   ]
  },
  {
   "cell_type": "markdown",
   "metadata": {},
   "source": [
    "### 构建矩阵A、X、Y，并用最小二乘法求解最小值\n",
    "![矩阵](Dataset_2016c/tutorial_img/matrix.png)"
   ]
  },
  {
   "cell_type": "code",
   "execution_count": null,
   "metadata": {
    "scrolled": true
   },
   "outputs": [],
   "source": [
    "def residual(p,mat_A,mat_Y):\n",
    "    mat_temp = np.dot(mat_A,[p[0],p[1],p[2]])-mat_Y\n",
    "    # delta = np.sum(np.multiply(mat_temp,mat_temp))\n",
    "    delta = np.dot(mat_temp.T,mat_temp)\n",
    "    return delta\n",
    "\n",
    "handle_list=[]\n",
    "with open('./Dataset_2016c/sample_case001_ans.txt','r') as handle:\n",
    "    for line in handle:\n",
    "        handle_list.append(line.strip('\\n'))\n",
    "ans_list = []\n",
    "for line in handle_list:\n",
    "    ans_list.append([float(x) for x in line.split('\\t') if x != ''])\n",
    "\n",
    "wave_spread_speed = 3e8\n",
    "for k_2 in range(dev_num):\n",
    "    mat_A,mat_Y = [],[]\n",
    "    for k in range(sta_num):\n",
    "        L_k = wave_spread_speed * toa_list[k_2][k]\n",
    "        if L_k <= 200:\n",
    "            x_k,y_k,z_k = sta_list[k][0],sta_list[k][1],sta_list[k][2]\n",
    "            K_k = x_k*x_k+y_k*y_k+z_k*z_k\n",
    "            break\n",
    "    if not (x_k and y_k and z_k):\n",
    "        print(\"{}:Bad signal!\".format(k_2))\n",
    "        continue\n",
    "    for i in range(sta_num):\n",
    "        L_i = wave_spread_speed * toa_list[k_2][i]\n",
    "        if L_i <= float(200/.85): # 假设每个基站的通信半径为200米，考虑到NLOS，除以折减系数（超过范围虽然有测量数据，但无效）\n",
    "            if L_i > 200:\n",
    "                L_i *= .85\n",
    "            x_i,y_i,z_i = sta_list[i][0],sta_list[i][1],sta_list[i][2]\n",
    "            mat_A.append([x_i-x_k,y_i-y_k,z_i-z_k])\n",
    "            K_i = x_i*x_i+y_i*y_i+z_i*z_i    \n",
    "            mat_Y.append(float(K_i-L_i*L_i-K_k+L_k*L_k))\n",
    "    if len(mat_Y) <4:\n",
    "        print(\"{}:Not enough valid TOA data! Available: {}\".format(k_2,len(mat_Y)))\n",
    "        continue\n",
    "    # 以TOA最小值对应的基站坐标为初始值\n",
    "    p_init = sta_list[toa_list[k_2].index(min(toa_list[k_2]))]\n",
    "    # print(min(toa_list[k_2]),toa_list[k_2].index(min(toa_list[k_2])),p)\n",
    "    cons = ({'type': 'ineq', 'fun': lambda x: 40000-pow(x[0]-p_init[0],2)-pow(x[1]-p_init[1],2)-pow(x[2]-p_init[2],2)})\n",
    "    param=scipy.optimize.minimize(residual,p_init,args=(mat_A,mat_Y),method='SLSQP',constraints=cons)\n",
    "    print(\"{}:{} ({}); Answer: {}\".format(k_2,np.round(param.x,2),len(mat_Y),ans_list[k_2]))"
   ]
  }
 ],
 "metadata": {
  "kernelspec": {
   "display_name": "Python 3",
   "language": "python",
   "name": "python3"
  },
  "language_info": {
   "codemirror_mode": {
    "name": "ipython",
    "version": 3
   },
   "file_extension": ".py",
   "mimetype": "text/x-python",
   "name": "python",
   "nbconvert_exporter": "python",
   "pygments_lexer": "ipython3",
   "version": "3.6.8"
  }
 },
 "nbformat": 4,
 "nbformat_minor": 2
}
